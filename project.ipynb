{
 "cells": [
  {
   "cell_type": "code",
   "execution_count": 4,
   "metadata": {},
   "outputs": [],
   "source": [
    "#imports\n",
    "import pandas as pd\n",
    "from gpt4all import GPT4All\n",
    "import gpt4all\n",
    "#path = \"C:\\Users\\Jakob\\Downloads\\gpt4all-falcon-q4_0.gguf\""
   ]
  },
  {
   "cell_type": "markdown",
   "metadata": {},
   "source": [
    "Preprocessing of our data (creating smaller subset)"
   ]
  },
  {
   "cell_type": "code",
   "execution_count": 5,
   "metadata": {},
   "outputs": [],
   "source": [
    "def split_file_by_lines(filename, lines_per_file,create_file):\n",
    "    with open(filename, 'r', encoding='utf-8') as file: \n",
    "        count = 0\n",
    "        current_file = open(create_file, 'w', encoding='utf-8') \n",
    "        \n",
    "        numLine = 0\n",
    "        count = 0\n",
    "        for line in file:\n",
    "            if(numLine > lines_per_file):\n",
    "                break\n",
    "            if (count % 1000) == 0:\n",
    "                current_file.write(line)\n",
    "                numLine += 1\n",
    "            count += 1    \n",
    "\n",
    "\n",
    "        current_file.close()"
   ]
  },
  {
   "cell_type": "markdown",
   "metadata": {},
   "source": [
    "get the complete titles for the queries in a dataframe"
   ]
  },
  {
   "cell_type": "code",
   "execution_count": 6,
   "metadata": {},
   "outputs": [],
   "source": [
    "def txt_to_df_title(filename):\n",
    "    fp = open(filename, 'r', encoding='utf-8')\n",
    "    queries = []\n",
    "    for entry in fp:\n",
    "        query, _ = entry.split(' ||| ', 1)\n",
    "        queries.append(query)\n",
    "    df_queries = pd.DataFrame(queries, columns=['Query'])\n",
    "    fp.close()\n",
    "    return df_queries"
   ]
  },
  {
   "cell_type": "code",
   "execution_count": 7,
   "metadata": {},
   "outputs": [],
   "source": [
    "def txt_to_df(filename):\n",
    "    df = pd.read_csv(filename, delimiter=' \\|\\|\\| ', engine='python', header=None, names=['Title', 'Text'])\n",
    "    return df"
   ]
  },
  {
   "cell_type": "code",
   "execution_count": 8,
   "metadata": {},
   "outputs": [],
   "source": [
    "llm = GPT4All(model_name=\"gpt4all-falcon-q4_0.gguf\",model_path=\"C:/Users/Jakob/Downloads/\")"
   ]
  },
  {
   "cell_type": "code",
   "execution_count": 9,
   "metadata": {},
   "outputs": [],
   "source": [
    "system_template = 'A summary provided by a user and an artificial inteligence assistant.'\n",
    "prompt_template = 'USER: {0}\\nASSISTANT: '\n",
    "first_input = system_template + prompt_template.format(\"'give me a short summary on Bikini'\")\n",
    "#response = llm.generate(first_input, temp=0,max_tokens=200)\n",
    "#print(response)"
   ]
  },
  {
   "cell_type": "code",
   "execution_count": 14,
   "metadata": {},
   "outputs": [],
   "source": [
    "def generateDocWithLLM(queries):\n",
    "    fp = open(\"llmDocs.txt\", 'a')\n",
    "    system_template = 'A summary provided by a user and an artificial inteligence assistant'\n",
    "    prompt_template = 'USER: {0}\\nASSISTANT: '\n",
    "    index = 0\n",
    "    for title in queries['Query']:\n",
    "        query = f'give me a short summary on {title}'\n",
    "        # input = system_template + prompt_template.format(query)\n",
    "        input = query\n",
    "        print(input)\n",
    "        with llm.chat_session():\n",
    "            response = llm.generate(input, temp=0)\n",
    "        print(response)\n",
    "        fp.write(str(title) + \"|||\" + str(response) + \"\\n\")\n",
    "        if(index == 5):\n",
    "            break\n",
    "        index += 1\n",
    "    fp.close()\n",
    "    print(\"finished\")  "
   ]
  },
  {
   "cell_type": "code",
   "execution_count": 15,
   "metadata": {},
   "outputs": [
    {
     "name": "stdout",
     "output_type": "stream",
     "text": [
      "give me a short summary on Anarchism\n",
      "Anarchism is a political philosophy that advocates for the elimination of hierarchical power structures, such as government and capitalism. It emphasizes individual freedom, voluntary association, and direct democracy. Anarchists reject the idea of authority and believe in self-governance through decentralized decision-making processes. They advocate for a society based on mutual aid, solidarity, and cooperation rather than competition and exploitation.\n",
      "give me a short summary on AW\n",
      "AW stands for Amazon Web Services, which is a cloud computing platform that provides various services such as storage, compute, database, analytics, and more. It allows businesses to build, deploy, and manage applications in the cloud without having to worry about infrastructure management.\n",
      "give me a short summary on Bikini\n",
      "Bikini is a type of swimsuit that consists of two triangles, one for each breast. It was first introduced in 1946 by French designer Louis Reard at the International Exhibition of Modern Decorative and Industrial Arts in Paris. The bikini quickly became popular due to its revealing design and has since become an iconic symbol of summer fashion.\n",
      "give me a short summary on Cornwall Wildlife Trust\n",
      "The Cornwall Wildlife Trust is a conservation organization that works to protect and preserve the natural habitats of wildlife in Cornwall, England. The trust manages several nature reserves and promotes sustainable practices for land management and tourism. They also offer educational programs and events to raise awareness about environmental issues and encourage people to take action to protect their local ecosystems.\n",
      "give me a short summary on Diaspora studies\n",
      "Diaspora studies is an interdisciplinary field that examines the experiences, identities, and cultural practices of people who have been forced to leave their homeland due to political, economic, or social reasons. It encompasses research on migration, displacement, exile, diaspora formation, and the impact of diasporic communities on host societies. The study of diasporas has gained significant attention in recent years, as it provides insights into issues such as identity politics, cultural hybridity, and transnationalism.\n",
      "give me a short summary on Elvis Costello\n",
      "Elvis Costello is an English singer-songwriter, musician, and record producer. He was born in London in 1955 and began his career as a member of the post-punk band The Attractions in the late 1970s. He has released numerous albums throughout his career, including My Aim Is True, This Year's Model, Armed Forces, King of America, and Get Happy!!. Costello is known for his distinctive voice, poetic lyrics, and eclectic musical style that blends rock, pop, jazz, and folk influences. He has won several Grammy Awards and was inducted into the Rock and Roll Hall of Fame in 2004.\n",
      "finished\n"
     ]
    }
   ],
   "source": [
    "#split_file_by_lines('data/stemmed.txt', 1000,'data/wikipediaSubset.txt')\n",
    "#split_file_by_lines('data/raw.txt', 1000,'data/textForQueries.txt')\n",
    "df = txt_to_df('data/wikipediaSubset.txt')\n",
    "dfQ = txt_to_df_title('data/textForQueries.txt')\n",
    "#display(df)\n",
    "#display(dfQ)\n",
    "generateDocWithLLM(dfQ)"
   ]
  }
 ],
 "metadata": {
  "kernelspec": {
   "display_name": "Python 3",
   "language": "python",
   "name": "python3"
  },
  "language_info": {
   "codemirror_mode": {
    "name": "ipython",
    "version": 3
   },
   "file_extension": ".py",
   "mimetype": "text/x-python",
   "name": "python",
   "nbconvert_exporter": "python",
   "pygments_lexer": "ipython3",
   "version": "3.11.0"
  }
 },
 "nbformat": 4,
 "nbformat_minor": 2
}
